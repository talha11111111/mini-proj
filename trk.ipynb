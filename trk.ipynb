{
 "cells": [
  {
   "cell_type": "code",
   "execution_count": 65,
   "id": "2fe194a7",
   "metadata": {},
   "outputs": [],
   "source": [
    "import numpy as np \n",
    "import pandas as pd\n",
    "import matplotlib.pyplot as plt\n"
   ]
  },
  {
   "cell_type": "code",
   "execution_count": 49,
   "id": "7faa9e1b",
   "metadata": {},
   "outputs": [],
   "source": [
    "from tensorflow.keras.models import Sequential"
   ]
  },
  {
   "cell_type": "code",
   "execution_count": 50,
   "id": "27b85b22",
   "metadata": {},
   "outputs": [],
   "source": [
    "from tensorflow.keras.layers import Activation, Dropout, Flatten, Dense, Conv2D, MaxPooling2D"
   ]
  },
  {
   "cell_type": "code",
   "execution_count": 51,
   "id": "2c5705af",
   "metadata": {},
   "outputs": [],
   "source": [
    "trainpath=\"C:\\\\Users\\\\talha\\\\OneDrive\\\\Desktop\\\\xyz\\\\chest_xray\\\\train\""
   ]
  },
  {
   "cell_type": "code",
   "execution_count": 52,
   "id": "cd4b538d",
   "metadata": {},
   "outputs": [],
   "source": [
    "testpath=\"C:\\\\Users\\\\talha\\\\OneDrive\\\\Desktop\\\\xyz\\\\chest_xray\\\\test\""
   ]
  },
  {
   "cell_type": "code",
   "execution_count": 53,
   "id": "20e3b769",
   "metadata": {},
   "outputs": [],
   "source": [
    "from keras.preprocessing.image import ImageDataGenerator\n",
    "\n",
    "train_datagen = ImageDataGenerator(rescale = 1./255,\n",
    "                                   shear_range = 0.2,\n",
    "                                   zoom_range = 0.2,\n",
    "                                   horizontal_flip = True)\n",
    "\n",
    "test_datagen = ImageDataGenerator(rescale = 1./255)"
   ]
  },
  {
   "cell_type": "code",
   "execution_count": 54,
   "id": "f1c2a6e9",
   "metadata": {},
   "outputs": [
    {
     "name": "stdout",
     "output_type": "stream",
     "text": [
      "Found 5216 images belonging to 2 classes.\n"
     ]
    }
   ],
   "source": [
    "training_set = train_datagen.flow_from_directory(\"C:\\\\Users\\\\talha\\\\OneDrive\\\\Desktop\\\\xyz\\\\chest_xray\\\\train\",\n",
    "                                                 target_size = (224, 224),\n",
    "                                                 batch_size = 32,\n",
    "                                                 class_mode = 'binary')"
   ]
  },
  {
   "cell_type": "code",
   "execution_count": 55,
   "id": "33c8274e",
   "metadata": {},
   "outputs": [
    {
     "name": "stdout",
     "output_type": "stream",
     "text": [
      "Found 624 images belonging to 2 classes.\n"
     ]
    }
   ],
   "source": [
    "test_set = test_datagen.flow_from_directory(\"C:\\\\Users\\\\talha\\\\OneDrive\\\\Desktop\\\\xyz\\\\chest_xray\\\\test\",\n",
    "                                            target_size = (224, 224),\n",
    "                                            batch_size = 32,\n",
    "                                            class_mode = 'binary')"
   ]
  },
  {
   "cell_type": "code",
   "execution_count": 56,
   "id": "39bae911",
   "metadata": {},
   "outputs": [],
   "source": [
    "image_shape = (224,224,3)"
   ]
  },
  {
   "cell_type": "code",
   "execution_count": 57,
   "id": "7df01d2a",
   "metadata": {},
   "outputs": [],
   "source": [
    "from tensorflow.keras.models import Sequential"
   ]
  },
  {
   "cell_type": "code",
   "execution_count": 58,
   "id": "ced00f5e",
   "metadata": {},
   "outputs": [],
   "source": [
    "from tensorflow.keras.layers import Activation, Dropout, Flatten, Dense, Conv2D, MaxPooling2D"
   ]
  },
  {
   "cell_type": "code",
   "execution_count": 59,
   "id": "d7e9daf8",
   "metadata": {},
   "outputs": [],
   "source": [
    "model = Sequential()\n",
    "\n",
    "model.add(Conv2D(filters=32, kernel_size=(3,3), input_shape = image_shape, activation = 'relu',))\n",
    "model.add(MaxPooling2D(pool_size=(2,2)))\n",
    "          \n",
    "model.add(Conv2D(filters=64, kernel_size=(3,3), input_shape = image_shape, activation = 'relu'))     \n",
    "model.add(MaxPooling2D(pool_size=(2,2)))\n",
    "          \n",
    "model.add(Conv2D(filters=64, kernel_size=(3,3), input_shape = image_shape, activation = 'relu'))     \n",
    "model.add(MaxPooling2D(pool_size=(2,2)))\n",
    "          \n",
    "          \n",
    "model.add(Flatten())\n",
    "          \n",
    "model.add(Dense(128))\n",
    "model.add(Activation('relu'))\n",
    "          \n",
    "          \n",
    "model.add(Dropout(0.5))\n",
    "          \n",
    "          \n",
    "model.add(Dense(1))\n",
    "model.add(Activation('sigmoid'))\n",
    "          \n",
    "          \n",
    "model.compile(loss = 'binary_crossentropy',\n",
    "              optimizer = 'adam',\n",
    "              metrics = ['accuracy'])\n",
    "          \n"
   ]
  },
  {
   "cell_type": "code",
   "execution_count": 60,
   "id": "6b2ae46b",
   "metadata": {},
   "outputs": [],
   "source": [
    "from tensorflow.keras.callbacks import EarlyStopping"
   ]
  },
  {
   "cell_type": "code",
   "execution_count": 61,
   "id": "e7447341",
   "metadata": {},
   "outputs": [],
   "source": [
    "early_stop = EarlyStopping(patience=4)"
   ]
  },
  {
   "cell_type": "code",
   "execution_count": 62,
   "id": "bb8c3bf5",
   "metadata": {},
   "outputs": [],
   "source": [
    "batch_size = 32"
   ]
  },
  {
   "cell_type": "code",
   "execution_count": 63,
   "id": "784492cb",
   "metadata": {},
   "outputs": [
    {
     "name": "stdout",
     "output_type": "stream",
     "text": [
      "Epoch 1/10\n",
      "163/163 [==============================] - 400s 2s/step - loss: 0.3978 - accuracy: 0.8234 - val_loss: 0.4684 - val_accuracy: 0.8013\n",
      "Epoch 2/10\n",
      "163/163 [==============================] - 353s 2s/step - loss: 0.2588 - accuracy: 0.8942 - val_loss: 0.6798 - val_accuracy: 0.7564\n",
      "Epoch 3/10\n",
      "163/163 [==============================] - 356s 2s/step - loss: 0.2329 - accuracy: 0.9030 - val_loss: 0.3297 - val_accuracy: 0.8494\n",
      "Epoch 4/10\n",
      "163/163 [==============================] - 381s 2s/step - loss: 0.2095 - accuracy: 0.9151 - val_loss: 0.2846 - val_accuracy: 0.8926\n",
      "Epoch 5/10\n",
      "163/163 [==============================] - 347s 2s/step - loss: 0.1796 - accuracy: 0.9296 - val_loss: 0.4399 - val_accuracy: 0.8269\n",
      "Epoch 6/10\n",
      "163/163 [==============================] - 345s 2s/step - loss: 0.1599 - accuracy: 0.9377 - val_loss: 0.2749 - val_accuracy: 0.9054\n",
      "Epoch 7/10\n",
      "163/163 [==============================] - 342s 2s/step - loss: 0.1532 - accuracy: 0.9440 - val_loss: 0.3603 - val_accuracy: 0.8958\n",
      "Epoch 8/10\n",
      "163/163 [==============================] - 345s 2s/step - loss: 0.1583 - accuracy: 0.9396 - val_loss: 0.3996 - val_accuracy: 0.8606\n",
      "Epoch 9/10\n",
      "163/163 [==============================] - 346s 2s/step - loss: 0.1433 - accuracy: 0.9446 - val_loss: 0.4616 - val_accuracy: 0.8510\n",
      "Epoch 10/10\n",
      "163/163 [==============================] - 354s 2s/step - loss: 0.1425 - accuracy: 0.9509 - val_loss: 0.3382 - val_accuracy: 0.8750\n"
     ]
    }
   ],
   "source": [
    "result = model.fit(training_set, epochs = 10, validation_data = test_set, callbacks=[early_stop])"
   ]
  },
  {
   "cell_type": "code",
   "execution_count": 66,
   "id": "fa10f70f",
   "metadata": {},
   "outputs": [
    {
     "data": {
      "text/plain": [
       "<AxesSubplot:>"
      ]
     },
     "execution_count": 66,
     "metadata": {},
     "output_type": "execute_result"
    },
    {
     "data": {
      "image/png": "[encoded data removed]",
      "text/plain": [
       "<Figure size 432x288 with 1 Axes>"
      ]
     },
     "metadata": {
      "needs_background": "light"
     },
     "output_type": "display_data"
    }
   ],
   "source": [
    "losses = pd.DataFrame(model.history.history)\n",
    "losses[['loss','val_loss']].plot()"
   ]
  },
  {
   "cell_type": "code",
   "execution_count": 68,
   "id": "a1c195af",
   "metadata": {},
   "outputs": [
    {
     "name": "stderr",
     "output_type": "stream",
     "text": [
      "C:\\Users\\talha\\AppData\\Local\\Temp\\ipykernel_16644\\1699418866.py:1: UserWarning: `Model.evaluate_generator` is deprecated and will be removed in a future version. Please use `Model.evaluate`, which supports generators.\n",
      "  model.evaluate_generator(test_set)\n",
      "C:\\Users\\talha\\AppData\\Local\\Temp\\ipykernel_16644\\1699418866.py:3: UserWarning: `Model.predict_generator` is deprecated and will be removed in a future version. Please use `Model.predict`, which supports generators.\n",
      "  prediction = model.predict_generator(test_set)\n"
     ]
    }
   ],
   "source": [
    "model.evaluate_generator(test_set)\n",
    "model.metrics_names\n",
    "prediction = model.predict_generator(test_set)"
   ]
  },
  {
   "cell_type": "code",
   "execution_count": 69,
   "id": "20ab91d0",
   "metadata": {},
   "outputs": [],
   "source": [
    "print(classification_report(test_set.classes,np.argmax(prediction,axis=1)))"
   ]
  },
  {
   "cell_type": "code",
   "execution_count": null,
   "id": "cf84065d",
   "metadata": {},
   "outputs": [],
   "source": []
  }
 ],
 "metadata": {
  "kernelspec": {
   "display_name": "Python 3 (ipykernel)",
   "language": "python",
   "name": "python3"
  },
  "language_info": {
   "codemirror_mode": {
    "name": "ipython",
    "version": 3
   },
   "file_extension": ".py",
   "mimetype": "text/x-python",
   "name": "python",
   "nbconvert_exporter": "python",
   "pygments_lexer": "ipython3",
   "version": "3.9.12"
  }
 },
 "nbformat": 4,
 "nbformat_minor": 5
}
